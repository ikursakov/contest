{
 "cells": [
  {
   "cell_type": "markdown",
   "metadata": {},
   "source": [
    "Для каждого файла с данными из директории `data`, содержащего две колонки чисел: время и вертикальную координгату падающего тела, нужно вычислить минимальное, максимальное и среднее значение для абсолютной величины ускорения свободного падения. Шаг по времени постоянный. Ответы привести с точностью до сотой. "
   ]
  },
  {
   "cell_type": "code",
   "execution_count": 2,
   "metadata": {},
   "outputs": [],
   "source": [
    "import numpy\n",
    "from matplotlib import pyplot\n",
    "import os.path\n",
    "import glob"
   ]
  },
  {
   "cell_type": "code",
   "execution_count": 12,
   "metadata": {},
   "outputs": [],
   "source": [
    "for filename in glob.glob(os.path.join('data','*.dat')):\n",
    "    t, y = numpy.loadtxt(filename, usecols=[0,1], unpack=True)\n",
    "    dt = t[1]-t[0]\n",
    "    vy = (y[1:] - y[:-1]) / dt\n",
    "    ay = numpy.abs((vy[1:] - vy[:-1]) / dt)\n",
    "    with open(filename+'.a','w') as of:\n",
    "        of.write('{:.2f}\\n'.format(ay.min()))\n",
    "        of.write('{:.2f}\\n'.format(ay.max()))\n",
    "        of.write('{:.2f}\\n'.format(ay.mean()))\n",
    "    "
   ]
  },
  {
   "cell_type": "code",
   "execution_count": null,
   "metadata": {},
   "outputs": [],
   "source": []
  }
 ],
 "metadata": {
  "kernelspec": {
   "display_name": "Python 3",
   "language": "python",
   "name": "python3"
  },
  "language_info": {
   "codemirror_mode": {
    "name": "ipython",
    "version": 3
   },
   "file_extension": ".py",
   "mimetype": "text/x-python",
   "name": "python",
   "nbconvert_exporter": "python",
   "pygments_lexer": "ipython3",
   "version": "3.6.4"
  }
 },
 "nbformat": 4,
 "nbformat_minor": 2
}
